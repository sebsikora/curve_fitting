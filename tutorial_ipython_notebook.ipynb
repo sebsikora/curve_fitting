{
 "metadata": {
  "name": "",
  "signature": "sha256:f76ecc85dfdf0745a1bb41a807ddcbc18b93526711241f049396fd62b89b1b8e"
 },
 "nbformat": 3,
 "nbformat_minor": 0,
 "worksheets": [
  {
   "cells": [
    {
     "cell_type": "markdown",
     "metadata": {},
     "source": [
      "#Piece-wise curve fitting with scipy.optimize.minimize\n",
      "\n",
      "A simple introduction to the use of the scipy.optimize.minimize library for the constrained minimization of multivariate scalar functions."
     ]
    },
    {
     "cell_type": "markdown",
     "metadata": {},
     "source": [
      "##0. The purpose of this document:\n",
      "Firstly, to give a little background.\n",
      "\n",
      "In my work as a biomechanical engineer I spend a not insignificant proportion of my time characterising the material properties of various natural and man-made materials or constructs. A common way in which this is done is to stretch or compress a specimen of the material under investigation until it 'breaks', recording the reaction force resulting from the applied displacement. Obviously, the relationship between the applied deformation and the resulting reaction force depends not only on the material properties, but also the specimen geometry. Thus, to allow us to determine the material rather than geometric properties we normalise the applied deformation according to the undeformed specimen length, giving us what is known as the [_engineering strain_](https://en.wikipedia.org/wiki/Deformation_%28mechanics%29#Engineering_strain), and normalise the recorded forces according to the undeformed specimen cross-sectional area, giving us what is known as the [_engineering stress_](https://en.wikipedia.org/wiki/Stress_%28mechanics%29). Henceforth, for ease I will refer to the engineering stress and strain simply as 'stress' (&#963;) and 'strain' (&#949;)."
     ]
    },
    {
     "cell_type": "markdown",
     "metadata": {},
     "source": [
      "If we plot stress against strain for a [_linear-elastic_](https://en.wikipedia.org/wiki/Linear_elasticity) or [_Hookean_](https://en.wikipedia.org/wiki/Hooke's_law) specimen, the gradient of the data at any point gives us a measure of the material [_stiffness_](https://en.wikipedia.org/wiki/Stiffness) - IE - how difficult it is at that point to further increase the applied deformation. This measure of stiffness in terms of stress and strain is known as the [_Young's Modulus_](https://en.wikipedia.org/wiki/Young's_modulus) (E), and is a material property that engineers are usually very interested in as once it is known various engineering analysis methods can be used to determine what will happen when loads are applied to something made from that material.\n"
     ]
    },
    {
     "cell_type": "markdown",
     "metadata": {},
     "source": [
      "_Figure 1._  \n",
      "<div style=\"float: left;\"><img src=\"/figure_1.png\"></div>\n",
      "Where  \n",
      "$E = \\frac{{\\Delta}{\\sigma}}{{\\Delta}{\\epsilon}}$"
     ]
    },
    {
     "cell_type": "markdown",
     "metadata": {},
     "source": [
      "Clearly, we don't require any particularly flashy curve fitting tools to determine the gradient of the linear relationship shown here. However, in real life the data that we are required to analyse is not usually so accomodating. Many (if not most!) natural materials and constructs display strongly non-linear stress-strain behaviour throughout at least part of their pre-failure deformation, and even engineering materials such as metals and hard polymers will display non-linear test behaviour, either at the beginning of the applied deformation due to compliance in the fixtures that hold the specimen during the test, or prior to the end of the test as the material moves from the elastic to the [_plastic_](https://en.wikipedia.org/wiki/Deformation_%28engineering%29#Plastic_deformation) regime. This results is something more akin to that shown in figure 2."
     ]
    },
    {
     "cell_type": "markdown",
     "metadata": {},
     "source": [
      "_Figure 2._  \n",
      "<img style=\"float: left;\" src=\"/figure_2.png\">"
     ]
    },
    {
     "cell_type": "markdown",
     "metadata": {},
     "source": [
      "Here, the strain range across which we will take the gradient for the purpose of characterising a Young's modulus for this specimen is not necessarily so obvious. One might think that you could just take the second differential of stress with respect to strain to find the inflection points, and in principle this is correct. However, in practice I have found that due to the noisy nature of the readings from our test equipment, even with filtering and smoothing it can be difficult to define thresholds that will reliably identify the inflection points accross large sets of specimens. Further to this, for some specimens I have worked with the comparatively gentle rates at which the rates change makes it impossible to find **any** inflection points in this manner, even on a case-by-case basis. "
     ]
    },
    {
     "cell_type": "markdown",
     "metadata": {},
     "source": [
      "While thinking that it would be nice to have a function that described the data, that might prove amenable to such analysis, some googling brought the [numpy](http://www.numpy.org) [piecewise](http://docs.scipy.org/doc/numpy-1.10.0/reference/generated/numpy.piecewise.html) function to my attention, and it occurred to me that if I created a piecewise function to describe the shape of the data I could use a fitting tool to determine the corresponding coefficients and thus the gradient of the linear region. Some abortive attempts using [scipy.optimize.curve_fit](http://docs.scipy.org/doc/scipy-0.16.1/reference/generated/scipy.optimize.curve_fit.html) suggested that the problem was too ill-posed to work in this manner without reasonable guesses for the transition strains between the pieces. Further to this, as curve_fit does not allow parameter constraints to be set the piecewise fits were not bound to intercept one-another at the transition strains, or to be of equal gradient at the transition strains where this made sense."
     ]
    },
    {
     "cell_type": "markdown",
     "metadata": {},
     "source": [
      "Further searching brought me to [scipy.optimize.minimize](http://docs.scipy.org/doc/scipy-0.17.0/reference/generated/scipy.optimize.minimize.html), which seemed much more promising as it featured a number of solvers that allowed the use of parameter bounds and/or constraints. Though I was able to find the online documentation, I did not find any simple guides that followed the use of the minimize function through from beginning to end. I thought that this curve-fitting problem made quie a nice easily-visualisable illustration of it's use and so here it is."
     ]
    },
    {
     "cell_type": "markdown",
     "metadata": {},
     "source": [
      "##1. In which we define our problem:"
     ]
    },
    {
     "cell_type": "markdown",
     "metadata": {},
     "source": [
      "So, we have some data:"
     ]
    },
    {
     "cell_type": "code",
     "collapsed": false,
     "input": [
      "%matplotlib inline\n",
      "import numpy as np\n",
      "import matplotlib.pyplot as plt\n",
      "\n",
      "data = np.loadtxt('./t1c1_raw_data.csv', delimiter=',')\n",
      "strain, stress = data.T\n",
      "\n",
      "plt.figure()\n",
      "plt.plot(strain, stress, 'red')\n",
      "plt.show()"
     ],
     "language": "python",
     "metadata": {},
     "outputs": [
      {
       "metadata": {},
       "output_type": "display_data",
       "png": "[encoded data removed]",
       "text": [
        "<matplotlib.figure.Figure at 0x7f08802c6710>"
       ]
      }
     ],
     "prompt_number": 21
    },
    {
     "cell_type": "markdown",
     "metadata": {},
     "source": [
      "In this case, it is stress-strain data resulting from the non-destructive compressive testing of some biological soft tissue - IE - compressed to a maximum load considered to be within the material's 'working range' but showing no evidence of plasticity or plasticity-like behaviour. When we characterise this kind of data, we often consider it as a toe region that is usually best described by an exponential function, followed by a linear-elastic region. Now, our piecewise fit starts to look like this:"
     ]
    },
    {
     "cell_type": "markdown",
     "metadata": {},
     "source": [
      "_Figure 3._  \n",
      "<img style=\"float: left;\" src=\"C:/Users/menssi/Documents/Python/seb_curve_fitting/notebook_images/figure_3.png\">"
     ]
    },
    {
     "cell_type": "markdown",
     "metadata": {},
     "source": [
      "So, in this case, our piecewise function will need to return $y = ae^{bx} + c$ when $x \\leqslant x_1$ and $y = mx + c$ when $x > x_1$."
     ]
    },
    {
     "cell_type": "markdown",
     "metadata": {},
     "source": [
      "In addition to our piecewise fitting function, we will need to define some additional coefficient conditions. To ensure that our fit is smooth and continuous we must ensure that the exponential and linear regions both interept one another and are of equal gradient at $x = x_1$. There are also some further sensible conditions we can define to reduce the number of valid solutions and help the solver we will use to determine the value of our fitting coefficients, namely that we know that $a$, $b$ and $m$ must be positive, and that $x_1$ must be larger than zero and smaller than the largest value of $x$.\n",
      "\n",
      "So, our piecewise fitting definition ends up like this:\n",
      "\n",
      "$y = f_1(x) = a_1e^{b_1x} + c_1$ when $x \\leqslant x_1$ and $y = f_2(x) = m_2x + c_2$ when $x > x_1$\n",
      "\n",
      "While:\n",
      "\n",
      "${\\frac{dy}{dx}}f_1(x_1) = {\\frac{dy}{dx}}f_2(x_1)$\n",
      "\n",
      "$f_1(x_1) = f_2(x_1)$\n",
      "\n",
      "$0 \\leqslant x_1 < x_{max}$\n",
      "\n",
      "$0 < a_1$\n",
      "\n",
      "$0 < b_1$\n",
      "\n",
      "$0 < m_2$"
     ]
    },
    {
     "cell_type": "markdown",
     "metadata": {},
     "source": [
      "##2. In which we examine the tools:"
     ]
    },
    {
     "cell_type": "markdown",
     "metadata": {},
     "source": [
      "There are two main functions that we will be using, [numpy.piecewise](http://docs.scipy.org/doc/numpy-1.10.0/reference/generated/numpy.piecewise.html) and [scipy.optimize.minimize](http://docs.scipy.org/doc/scipy-0.17.0/reference/generated/scipy.optimize.minimize.html). \n",
      "\n",
      "###2.1. numpy.piecewise()\n",
      "\n",
      "Among other options numpy.piecewise takes three arguments that we are interested in here; an array describing the input domain (_x_), a list of functions that describe the regions of our piecewise fit (_funclist_) and a list of boolean tests that determine the function from funclist that will be evaluated for any given value in x (_conds_). One small complication if you are fairly new to Python is that the functions in funclist must be defined using [lambda functions](https://pythonconquerstheuniverse.wordpress.com/2011/08/29/lambda_tutorial/). These allow a simple function to be defined at the point of use in the form _lambda [input]: [function]_.\n",
      "\n",
      "For example:\n",
      "\n",
      "If _x_ = np.array([0, 1, 2, 3, 4, 5]),  _funclist_ = [lambda x: x ** 2.0, lambda x: x ** 3.0] and _conds_ = [x <= x1, x > x1] then when $x_1 = 2.5$ np.piecewise(x, funclist, conds) will return [0, 1, 4, 9, 64, 125]. Values of _x_ less than or equal to 2.5 will be passed to the first function in _funclist_ and squared, values of _x_ greater than 2.5 will be passed to the second function in _funclist_ and cubed."
     ]
    },
    {
     "cell_type": "code",
     "collapsed": false,
     "input": [
      "import numpy as np\n",
      "\n",
      "x1 = 2.5\n",
      "x = np.array([0, 1, 2, 3, 4, 5])\n",
      "\n",
      "functions = [lambda x: x ** 2.0, lambda x: x ** 3.0]\n",
      "conditions = [x <= x1, x > x1]\n",
      "\n",
      "np.piecewise(x, conditions, functions)"
     ],
     "language": "python",
     "metadata": {},
     "outputs": [
      {
       "metadata": {},
       "output_type": "pyout",
       "prompt_number": 22,
       "text": [
        "array([  0,   1,   4,  27,  64, 125])"
       ]
      }
     ],
     "prompt_number": 22
    },
    {
     "cell_type": "markdown",
     "metadata": {},
     "source": [
      "Good stuff.\n",
      "\n",
      "In the same way, we can define a piecewise fitting function, here encapsulated in an overall function of our domain (_x_) and fitting coefficients (_x1, a1, b1, c1, m2 & c2_) such that it can be easily passed to our solver later:"
     ]
    },
    {
     "cell_type": "code",
     "collapsed": false,
     "input": [
      "def fit(x, x1, a1, b1, c1, m2, c2):\t# Piecewise fitting function definition\n",
      "    \n",
      "\tfunctions = [lambda x: (a1 * np.exp(b1 * x)) + c1,\n",
      "\t             lambda x: (m2 * x) + c2]\n",
      "\tconditions = [x <= x1, x > x1]\n",
      "    \n",
      "\treturn np.piecewise(x, conditions, functions)"
     ],
     "language": "python",
     "metadata": {},
     "outputs": [],
     "prompt_number": 23
    },
    {
     "cell_type": "markdown",
     "metadata": {},
     "source": [
      "###2.2. scipy.optimize.minimize()\n",
      "\n",
      "[scipy.optimize.minimize](http://docs.scipy.org/doc/scipy-0.17.0/reference/generated/scipy.optimize.minimize.html) is a function that performs a [mathematical optimization](https://en.wikipedia.org/wiki/Mathematical_optimization) known as _minimization_. This involves systematically solving a scalar function (known as the _objective_) chosing input values from within an allowed set (the _bounds_), contingent on a number of equality and/or inequality _conditions_ until the result of the function reaches a minimum. \n",
      "\n",
      "scipy.optimize.minimize can accomplish this in a number of different ways, depending on the choice of _method_ (solver), and supports a large number of additional arguments depending on the particular method chosen. At a minimum, in addition to our choice of method we will require a callable objective function (_fun_), an array containing our initial guesss for the objective function coefficients (_x0_) and a python dictionary describing our constraints (_constraints_). In this case, we will use the 'SLSQP' method, as this allows both equality and inequality constraints as required.\n",
      "\n",
      "####2.2.1. The objective:\n",
      "\n",
      "We already have what will comprise the heart of our objective function - it's our piecewise fitting function we created previously. However, at the moment the fitting function returns an array containing our y-axis component of our fitted data, whereas we want a measure of 'badness of fit'. An approprite measure of 'badness of fit' in this case is the [_residual sum of squares_](https://en.wikipedia.org/wiki/Residual_sum_of_squares), also known as the _sum of the squared error_. To accomplish this, we define our objective function such that it will appropriately call our fitting function, and then calculate and return the resulting residual sum of sqaures. The objective function needs to be passed a list of coefficients, so it is defined as a function of the list of coefficients X as shown."
     ]
    },
    {
     "cell_type": "code",
     "collapsed": false,
     "input": [
      "def objective(X):\t\t\t   \n",
      "                               # x1    a1    b1    c1    m2    c2\n",
      "    stressPredict = fit(strain, X[0], X[1], X[2], X[3], X[4], X[5])\n",
      "    \n",
      "    errors = stress - stressPredict\n",
      "    sumOfSquaredErrors = np.sum(errors ** 2.0)\n",
      "    \n",
      "    return sumOfSquaredErrors"
     ],
     "language": "python",
     "metadata": {},
     "outputs": [],
     "prompt_number": 24
    },
    {
     "cell_type": "markdown",
     "metadata": {},
     "source": [
      "####2.2.2. The constraints:\n",
      "\n",
      "Next we will set up our constraints. These need to be defined in sequence of python [_dictionaries_](https://docs.python.org/2/tutorial/datastructures.html#dictionaries). Briefly, a dictionary can be thought of as similar to a list or array, except that rather than accessing a particular entry via it's _index_, we access it via it's _key_, which can either be a number or a string. They take the form {'key-0' : 'value-0', 'key-1' : 'value-1', ...}. The _values_ can be data, or callable functions."
     ]
    },
    {
     "cell_type": "code",
     "collapsed": false,
     "input": [
      "# For example:\n",
      "\n",
      "dictionary = {'name' : 'Seb', 'age' : 31, 'occupation' : 'PDRA'}\n",
      "\n",
      "print dictionary['name']\n",
      "print dictionary['age']\n",
      "print dictionary['occupation']"
     ],
     "language": "python",
     "metadata": {},
     "outputs": [
      {
       "output_type": "stream",
       "stream": "stdout",
       "text": [
        "Seb\n",
        "31\n",
        "PDRA\n"
       ]
      }
     ],
     "prompt_number": 25
    },
    {
     "cell_type": "code",
     "collapsed": false,
     "input": [
      "# The value we access via it's key can also be a callable function:\n",
      "\n",
      "# This will be our function\n",
      "def find_occupation(name):\n",
      "    if name == 'Seb':\n",
      "        occupation = 'PDRA'\n",
      "    else:\n",
      "        occupation = 'Not found'\n",
      "    return occupation\n",
      "\n",
      "dictionary = {'name' : 'Seb', 'age' : 31, 'occupation' : find_occupation(dictionary['name'])}\n",
      "\n",
      "print dictionary['occupation']\n"
     ],
     "language": "python",
     "metadata": {},
     "outputs": [
      {
       "output_type": "stream",
       "stream": "stdout",
       "text": [
        "PDRA\n"
       ]
      }
     ],
     "prompt_number": 26
    },
    {
     "cell_type": "markdown",
     "metadata": {},
     "source": [
      "Good stuff. \n",
      "\n",
      "scipy.optimize.minimize requires it's constraint definitions to behave in a particular way. Each constraint is to be provided by a callable function with our array of coefficients X as the argument. For inequality constraints, the constraint is met if the corresponding function returns a non-negative value, while for equality constraints the corresponding function must return zero. For example, say our zeroth coefficient X[0] represents our crossing strain $x_1$ and we have decided that $0 \\leqslant x_1$. The inequality constraint function will look like this:"
     ]
    },
    {
     "cell_type": "code",
     "collapsed": false,
     "input": [
      "def constraint_0(X):\n",
      "    # We want the function to return a non-negative value when X[0] (ie - our x1 value) is positive, thus:\n",
      "    return X[0] - 0.0"
     ],
     "language": "python",
     "metadata": {},
     "outputs": [],
     "prompt_number": 27
    },
    {
     "cell_type": "markdown",
     "metadata": {},
     "source": [
      "In the same way, if we want to set up a second constraint such that $x_1 < x_{max}$ our second constraint function would look like this:"
     ]
    },
    {
     "cell_type": "code",
     "collapsed": false,
     "input": [
      "def constraint_1(X):\n",
      "    # We want the function to return a non-negative value when x_max (ie - our maximum strain) is larger than X[0], thus:\n",
      "    return max(strain) - X[0]"
     ],
     "language": "python",
     "metadata": {},
     "outputs": [],
     "prompt_number": 28
    },
    {
     "cell_type": "markdown",
     "metadata": {},
     "source": [
      "We use the same approach to define our other inequality constraints, $0 < a_1, 0 < b_1, 0 < m2$:"
     ]
    },
    {
     "cell_type": "code",
     "collapsed": false,
     "input": [
      "def constraint_2(X):\n",
      "    # We want the function to return a non-negative value when X[1] (a1) is larger than zero, thus: \n",
      "    return X[1] - 0.0\n",
      "\n",
      "def constraint_3(X):\n",
      "    # We want the function to return a non-negative value when X[2] (b1) is larger than zero, thus: \n",
      "    return X[2] - 0.0\n",
      "\n",
      "def constraint_4(X):\n",
      "    # We want the function to return a non-negative value when X[4] (m2) is larger than zero, thus: \n",
      "    return X[4] - 0.0"
     ],
     "language": "python",
     "metadata": {},
     "outputs": [],
     "prompt_number": 29
    },
    {
     "cell_type": "markdown",
     "metadata": {},
     "source": [
      "The functions we define for our equality constraints need to return zero when the condition is met. Further to this, the functions will be slightly more complex as we need to work out the y-value and gradient of both regions at their intercept:"
     ]
    },
    {
     "cell_type": "code",
     "collapsed": false,
     "input": [
      "def constraint_5(X):\n",
      "\t# Work out the gradient of the two regions at the point x = x1\n",
      "\t# dy/dx f1(x) = (a1  *  b1   * np.exp( b1  *  x1))\n",
      "\tderivative_a = (X[1] * X[2]) * np.exp(X[2] * X[0])\n",
      "\t# dy/dx f2(x) = m2\n",
      "\tderivative_b = X[4]\n",
      "    # We want the function to return zero when dy/dx f1(x1) = dy/dx f2(x1), thus:\n",
      "\treturn derivative_a - derivative_b\t\t\t\n",
      "\n",
      "def constraint_6(X):\n",
      "\t# Work out the y-value of both regions at the point x = x1\n",
      "\t# y =  (a1  * np.exp( b1  *  x1))  +  c1\n",
      "    y_a = (X[1] * np.exp(X[2] * X[0])) + X[3]\n",
      "\t# y =  (m2  *  x1)  +  c2\n",
      "    y_b = (X[4] * X[0]) + X[5]\n",
      "\t# We want the function to return zero when # f1(x1) = f2(x1), thus:\n",
      "    return y_a - y_b"
     ],
     "language": "python",
     "metadata": {},
     "outputs": [],
     "prompt_number": 30
    },
    {
     "cell_type": "markdown",
     "metadata": {},
     "source": [
      "We now have all of the necessary constraints identified in part 1 appropriately defined as individual functions. To pass these constraints to scipy.optimize.minimize we need to wrap them up in a sequence of dictionaries. This comprises something like an array of dictionaries, each handling one constraint. The format of each entry in the sequence needs to be {'type' : [type], 'fun' : [function]}, where [type] can be either 'ineq' for an inequality constraint or 'eq' for an equality constraint, and [function] is the corresponding function name.\n",
      "\n",
      "Thus, our final constraints dictionary sequnce should look like this:"
     ]
    },
    {
     "cell_type": "code",
     "collapsed": false,
     "input": [
      "constraints = ({'type': 'ineq',\n",
      "                'fun': constraint_0},\n",
      "               {'type': 'ineq',\n",
      "                'fun': constraint_1},\n",
      "               {'type': 'ineq',\n",
      "                'fun': constraint_2},\n",
      "               {'type': 'ineq',\n",
      "                'fun': constraint_3},\n",
      "               {'type': 'ineq',\n",
      "                'fun': constraint_4},\n",
      "               {'type': 'eq',\n",
      "                'fun': constraint_5},\n",
      "               {'type': 'eq',\n",
      "                'fun': constraint_6})"
     ],
     "language": "python",
     "metadata": {},
     "outputs": [],
     "prompt_number": 31
    },
    {
     "cell_type": "markdown",
     "metadata": {},
     "source": [
      "#### 2.2.3. Initial guess for coefficients:\n",
      "\n",
      "Lastly, scipy.optimize.minimize requires our initial guess for the objective function coefficients (_x0_). The closer our initial guesses to the eventual solution, the 'easier' it is for the optimizer to find it, and the less likely the optimizer will reach a non-optimum local minima. Though we could perhaps take a reasonable stab at the transition strain $x_1$, the coefficients of the exponential and linear regions of our fit are more difficult. Further to this, if we need to make good estimate of the eventual solution for each and every dataset we examine we increase the possibility of introducing user variation and lose a lot of the benefit of an automated approach. \n",
      "\n",
      "Ideally, we want to be able to provide the 'worst possible' guesses that still enable a valid solution to be found. One way to approach this is to use our constraints as a guide. At worst, we know that the values of $a_1$ and $b_1$ must be positive as we are looking for an increasing expoential, as must $m_2$, as we are looking for a positive gradient in the linear region. The likely polarities of $c_1$ and $c_2$ are less apparent, as though by eye we might expect a negative y-axis intercept for the linear region, that may not always be the case. In the same way, the only thing we can say with confidence about the likely value of the crossing strain $x_1$ is that it will lie between the smallest and largest strains.\n",
      "\n",
      "With this in mind, we will use a starting guess of 1.0 for coefficients that we are confident are positive ($a_1, b_1, m_1$), -1.0 for those that we are confident are negative (), 0.0 for those we have no idea ($c_1, c_2$) and a completely arbitrary guess of one-half of the maximum strain for the transition strain ($x_1$). We define our starting guesses in a list as follows:"
     ]
    },
    {
     "cell_type": "code",
     "collapsed": false,
     "input": [
      "x0 = [(max(strain) / 2.0), 1.0, 1.0, 0.0, 1.0, 0.0]\n"
     ],
     "language": "python",
     "metadata": {},
     "outputs": [],
     "prompt_number": 32
    },
    {
     "cell_type": "markdown",
     "metadata": {},
     "source": [
      "##3. In which we explore local minima:"
     ]
    },
    {
     "cell_type": "markdown",
     "metadata": {},
     "source": [
      "So, armed with our objective function, constraints dictionary and list of initial coefficient guesses, we are fully equipped to throw it all into scipy.optimize.minimize and see what happens!"
     ]
    },
    {
     "cell_type": "code",
     "collapsed": false,
     "input": [
      "from scipy.optimize import minimize\n",
      "\n",
      "result = minimize(objective, x0, method = 'SLSQP', constraints = constraints)\n",
      "\n",
      "print result"
     ],
     "language": "python",
     "metadata": {},
     "outputs": [
      {
       "output_type": "stream",
       "stream": "stdout",
       "text": [
        "  status: 0\n",
        " success: True\n",
        "    njev: 18\n",
        "    nfev: 160\n",
        "     fun: 2566.7635827565869\n",
        "       x: array([  3.36427233e-04,   7.44653240e+00,   6.33793447e+00,\n",
        "        -8.19967820e+00,   4.72963748e+01,  -7.53162753e-01])\n",
        " message: 'Optimization terminated successfully.'\n",
        "     jac: array([  0.00000000e+00,  -8.81018372e+01,  -1.15234375e-01,\n",
        "        -8.80038452e+01,   1.41906738e-02,   8.79809265e+01,\n",
        "         0.00000000e+00])\n",
        "     nit: 18\n"
       ]
      }
     ],
     "prompt_number": 33
    },
    {
     "cell_type": "markdown",
     "metadata": {},
     "source": [
      "minimize() returns an [OptimizeResult object](http://docs.scipy.org/doc/scipy/reference/generated/scipy.optimize.OptimizeResult.html#scipy.optimize.OptimizeResult). As we can see, amongst other things reported within, the _success_ field tells us that the optimizer thinks it has successfully completed - IE - has determined a combination of coefficient values that minimizes the result returned by the objective function. The other field we are most interested in is _x_, as this comprises a Numpy arry containing our final objective function coefficients.\n",
      "\n",
      "We can pass these coefficients back to our fitting function defined earlier, plot the result and thus compare our initial data with our fit:"
     ]
    },
    {
     "cell_type": "code",
     "collapsed": false,
     "input": [
      "stressPredict = fit(strain, result.x[0], result.x[1], result.x[2], result.x[3], result.x[4], result.x[5])\n",
      "\n",
      "plt.figure()\n",
      "plt.plot(strain, stress, 'red')\n",
      "plt.plot(strain, stressPredict, 'blue')\n",
      "plt.show()"
     ],
     "language": "python",
     "metadata": {},
     "outputs": [
      {
       "metadata": {},
       "output_type": "display_data",
       "png": "[encoded data removed]",
       "text": [
        "<matplotlib.figure.Figure at 0x7f08785a7490>"
       ]
      }
     ],
     "prompt_number": 34
    },
    {
     "cell_type": "markdown",
     "metadata": {},
     "source": [
      "Hmmmm, not so hot.\n",
      "\n",
      "How about if we try some other values for the initial guess for $x_1$? Say, ${\\frac{1}{3}}$ and ${\\frac{2}{3}}$ of the maximum strain:"
     ]
    },
    {
     "cell_type": "code",
     "collapsed": false,
     "input": [
      "# x1 = 1/3 of the maximum strain:\n",
      "\n",
      "x0 = [(max(strain) / 3.0), 1.0, 1.0, 0.0, 1.0, 0.0]\n",
      "\n",
      "result = minimize(objective, x0, method = 'SLSQP', constraints = constraints)\n",
      "\n",
      "stressPredict = fit(strain, result.x[0], result.x[1], result.x[2], result.x[3], result.x[4], result.x[5])\n",
      "\n",
      "plt.figure()\n",
      "plt.plot(strain, stress, 'red')\n",
      "plt.plot(strain, stressPredict, 'blue')\n",
      "plt.show()"
     ],
     "language": "python",
     "metadata": {},
     "outputs": [
      {
       "metadata": {},
       "output_type": "display_data",
       "png": "[encoded data removed]",
       "text": [
        "<matplotlib.figure.Figure at 0x7f08803a65d0>"
       ]
      }
     ],
     "prompt_number": 35
    },
    {
     "cell_type": "code",
     "collapsed": false,
     "input": [
      "# x1 = 2/3 of the maximum strain:\n",
      "\n",
      "x0 = [(max(strain) / 3.0) * 2.0, 1.0, 1.0, 0.0, 1.0, 0.0]\n",
      "\n",
      "result = minimize(objective, x0, method = 'SLSQP', constraints = constraints)\n",
      "\n",
      "stressPredict = fit(strain, result.x[0], result.x[1], result.x[2], result.x[3], result.x[4], result.x[5])\n",
      "\n",
      "plt.figure()\n",
      "plt.plot(strain, stress, 'red')\n",
      "plt.plot(strain, stressPredict, 'blue')\n",
      "plt.show()"
     ],
     "language": "python",
     "metadata": {},
     "outputs": [
      {
       "metadata": {},
       "output_type": "display_data",
       "png": "[encoded data removed]",
       "text": [
        "<matplotlib.figure.Figure at 0x7f087860bf50>"
       ]
      }
     ],
     "prompt_number": 36
    },
    {
     "cell_type": "markdown",
     "metadata": {},
     "source": [
      "So, it seems that though using $x_1 = {\\frac{1}{2}}*{\\epsilon}_{max}$ does not result in a good fit, both $x_1 = {\\frac{1}{3}}*{\\epsilon}_{max}$ and $x_1 = {\\frac{2}{3}}*{\\epsilon}_{max}$ seem to work well. This suggests that with the given starting guesses for the fitting function coefficients (with the exception of $x_1$) are as they are here, and the starting value for $x_1 = {\\frac{1}{2}}*{\\epsilon}_{max}$, minimize() becomes 'trapped' in a _local_ minimum at $x_1 = 3.36e-04$. Local minima are solutions in which variation of any one or more coefficients in either the positive or negative direction causes the objective function output to increase (figure 3). There may be numerous local minima across the allowed range of possible solutions, especially in the case of poorly posed problems such as we have here."
     ]
    },
    {
     "cell_type": "markdown",
     "metadata": {},
     "source": [
      "_Figure 3._  \n",
      "<img style=\"float: left;\" src=\"C:/Users/menssi/Documents/Python/seb_curve_fitting/notebook_images/figure_3.png\">\n",
      "Put local minima example figure here..."
     ]
    },
    {
     "cell_type": "markdown",
     "metadata": {},
     "source": [
      "To get a good fit, we could use $x_1 = {\\frac{1}{3}}*{\\epsilon}_{max}$ or $x_1 = {\\frac{2}{3}}*{\\epsilon}_{max}$, as we have shown that either of these work well. However, this removes a lot of the advantage of using a partially automated approach, as it is likely that the values of $x_1$ that will result in convergence on the _global_ minimum will be different from case to case. As such, we don't really want to have to try and take a new guess for every dataset. How then, to find the global minimum?"
     ]
    },
    {
     "cell_type": "markdown",
     "metadata": {},
     "source": [
      "##4. In which we find the global minimum:"
     ]
    },
    {
     "cell_type": "markdown",
     "metadata": {},
     "source": [
      "To ensure that minimize() finds the _global_ rather than _local_ minimum, we need a way to force it to explore more of the allowed range of possible solutions. There are a number of ways of doing this, such as [annealing](http://www.wikipedia.org/annealing????) (whereby the optimization is conducted for **every** possible combination of allowed objective function coefficients, essentially 'work out all of the possible answers and then pick the best one'), though this is not very efficient and could be very time consuming, or sampling based approaches which try to cover a similar breadth of objective function coefficients but without conducting the optimization for **every** single combination.\n",
      "\n",
      "Fortunately, there is a tool to help us accomplish this built into scipy.optimize. [scipy.optimize.basinhopping](http://docs.scipy.org/doc/scipy-0.17.0/reference/generated/scipy.optimize.basinhopping.html) provides a 'front end' for scipy.optimize.minimize, iteratively adjusting the starting guesses for the objective function coefficients and then running the optimization. It keeps track of the current 'global' minimum, updating it as necessary. basinhopping() has no idea if the current 'global' minimum is the **actual** global minimum, just that it is the best solution found thusfar. For this reason, we need to specify the desired number of iterations (_niter_), considered sufficient to converge on the actual global minimum. Though we have no way of working this value out _a-priori_, chosing an overly large value will not prevent convergence, so there is no harm in 'aiming high', aside from the increased computational cost. Further to this, (_T, stepsize_)...\n",
      "\n",
      "Beyond this, the required arguments are the same as for minimize(). Let's chuck it all into basinhopping() and see what happens. We will set $x_1 = {\\frac{1}{2}}*{\\epsilon_{max}}$ as in our failed case before:"
     ]
    },
    {
     "cell_type": "code",
     "collapsed": false,
     "input": [
      "# Import the basinhopping function\n",
      "from scipy.optimize import basinhopping\n",
      "\n",
      "# Set the objective function starting guesses\n",
      "x0 = [(max(strain) / 2.0), 1.0, 1.0, 0.0, 1.0, 0.0]\n",
      "\n",
      "result = basinhopping(func = objective, x0 = x0, niter = 10, T = 1.0, stepsize = 0.1, minimizer_kwargs={'method':'SLSQP', 'constraints': constraints})\n",
      "\n",
      "stressPredict = fit(strain, result.x[0], result.x[1], result.x[2], result.x[3], result.x[4], result.x[5])\n",
      "\n",
      "plt.figure()\n",
      "plt.plot(strain, stress, 'red')\n",
      "plt.plot(strain, stressPredict, 'blue')\n",
      "plt.show()"
     ],
     "language": "python",
     "metadata": {},
     "outputs": [
      {
       "metadata": {},
       "output_type": "display_data",
       "png": "[encoded data removed]",
       "text": [
        "<matplotlib.figure.Figure at 0x7f087852ea10>"
       ]
      }
     ],
     "prompt_number": 56
    },
    {
     "cell_type": "markdown",
     "metadata": {},
     "source": [
      "Good stuff.\n",
      "\n",
      "To check that we have not just got lucky, let's check to see that some patently incorrect starting guesses for $x_1$ also allow us to arrive at a good solution. We'll try $x_1 = {\\frac{1}{100}}*{\\epsilon_{max}}$ and $x_1 = {\\frac{99}{100}}*{\\epsilon_{max}}$"
     ]
    },
    {
     "cell_type": "code",
     "collapsed": false,
     "input": [
      "# x1 = 1/100 of the maximum strain:\n",
      "x0 = [(max(strain) / 100.0), 1.0, 1.0, 0.0, 1.0, 0.0]\n",
      "\n",
      "result = basinhopping(func = objective, x0 = x0, niter = 10, T = 1.0, stepsize = 0.1, minimizer_kwargs={'method':'SLSQP', 'constraints': constraints})\n",
      "\n",
      "stressPredict = fit(strain, result.x[0], result.x[1], result.x[2], result.x[3], result.x[4], result.x[5])\n",
      "\n",
      "plt.figure()\n",
      "plt.plot(strain, stress, 'red')\n",
      "plt.plot(strain, stressPredict, 'blue')\n",
      "plt.show()"
     ],
     "language": "python",
     "metadata": {},
     "outputs": [
      {
       "metadata": {},
       "output_type": "display_data",
       "png": "[encoded data removed]",
       "text": [
        "<matplotlib.figure.Figure at 0x7f087856cc90>"
       ]
      }
     ],
     "prompt_number": 53
    },
    {
     "cell_type": "code",
     "collapsed": false,
     "input": [
      "# x1 = 99/100 of the maximum strain:\n",
      "x0 = [(max(strain) / 100.0) * 99.0, 1.0, 1.0, 0.0, 1.0, 0.0]\n",
      "\n",
      "result = basinhopping(func = objective, x0 = x0, niter = 10, T = 1.0, stepsize = 0.1, minimizer_kwargs={'method':'SLSQP', 'constraints': constraints})\n",
      "\n",
      "stressPredict = fit(strain, result.x[0], result.x[1], result.x[2], result.x[3], result.x[4], result.x[5])\n",
      "\n",
      "plt.figure()\n",
      "plt.plot(strain, stress, 'red')\n",
      "plt.plot(strain, stressPredict, 'blue')\n",
      "plt.show()"
     ],
     "language": "python",
     "metadata": {},
     "outputs": [
      {
       "metadata": {},
       "output_type": "display_data",
       "png": "[encoded data removed]",
       "text": [
        "<matplotlib.figure.Figure at 0x7f08801decd0>"
       ]
      }
     ],
     "prompt_number": 50
    },
    {
     "cell_type": "markdown",
     "metadata": {},
     "source": [
      "Great!\n",
      "\n",
      "Now we have a tool that can be used to fit a piecewise exponential-linear function to any dataset we have that looks as though that might be appropriate."
     ]
    },
    {
     "cell_type": "code",
     "collapsed": false,
     "input": [],
     "language": "python",
     "metadata": {},
     "outputs": []
    }
   ],
   "metadata": {}
  }
 ]
}
